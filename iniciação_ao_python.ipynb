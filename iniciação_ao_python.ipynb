{
  "nbformat": 4,
  "nbformat_minor": 0,
  "metadata": {
    "colab": {
      "provenance": [],
      "authorship_tag": "ABX9TyNfqBAalB5taL9mJ6rNZl/g",
      "include_colab_link": true
    },
    "kernelspec": {
      "name": "python3",
      "display_name": "Python 3"
    },
    "language_info": {
      "name": "python"
    }
  },
  "cells": [
    {
      "cell_type": "markdown",
      "metadata": {
        "id": "view-in-github",
        "colab_type": "text"
      },
      "source": [
        "<a href=\"https://colab.research.google.com/github/gustavo11-ago/Primeiro-projeto/blob/main/inicia%C3%A7%C3%A3o_ao_python.ipynb\" target=\"_parent\"><img src=\"https://colab.research.google.com/assets/colab-badge.svg\" alt=\"Open In Colab\"/></a>"
      ]
    },
    {
      "cell_type": "code",
      "execution_count": null,
      "metadata": {
        "id": "QtI7QS7wRP-m",
        "colab": {
          "base_uri": "https://localhost:8080/"
        },
        "outputId": "07f604f6-d16b-453b-ae4a-89ac1c6b8eb5"
      },
      "outputs": [
        {
          "output_type": "stream",
          "name": "stdout",
          "text": [
            "I Competiçao de programaçao da Start\n"
          ]
        }
      ],
      "source": [
        "print(\"I Competiçao de programaçao da Start\")"
      ]
    },
    {
      "cell_type": "markdown",
      "source": [
        "ano = \"II\":"
      ],
      "metadata": {
        "id": "mL_JQHjETrJo"
      }
    }
  ]
}